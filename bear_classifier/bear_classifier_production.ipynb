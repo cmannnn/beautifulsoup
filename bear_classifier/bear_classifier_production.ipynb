{
  "nbformat": 4,
  "nbformat_minor": 0,
  "metadata": {
    "colab": {
      "name": "bear_classifier_production.ipynb",
      "provenance": []
    },
    "kernelspec": {
      "name": "python3",
      "display_name": "Python 3"
    },
    "language_info": {
      "name": "python"
    }
  },
  "cells": [
    {
      "cell_type": "code",
      "metadata": {
        "id": "0vNnH-VATIsC"
      },
      "source": [
        "from fastai.vision.all import *\n",
        "from fastai.vision.widgets import *"
      ],
      "execution_count": null,
      "outputs": []
    },
    {
      "cell_type": "code",
      "metadata": {
        "id": "P6eGLw2STccW"
      },
      "source": [
        "# loading model to use\n",
        "learn_inf = load_learner('export.pkl')"
      ],
      "execution_count": null,
      "outputs": []
    },
    {
      "cell_type": "code",
      "metadata": {
        "id": "HbibX2AVTP-l"
      },
      "source": [
        "#Putting back btn_upload to a widget for next cell\n",
        "btn_upload = widgets.FileUpload()\n",
        "\n",
        "#hide_output\n",
        "out_pl = widgets.Output()\n",
        "\n",
        "#hide_output\n",
        "btn_run = widgets.Button(description = 'Classify')\n",
        "\n",
        "#hide_output\n",
        "lbl_pred = widgets.Label()"
      ],
      "execution_count": null,
      "outputs": []
    },
    {
      "cell_type": "code",
      "metadata": {
        "id": "pP1bdvhHTgO1"
      },
      "source": [
        "def on_click_classify(change):\n",
        "    img = PILImage.create(btn_upload.data[-1])\n",
        "    out_pl.clear_output()\n",
        "    with out_pl: display(img.to_thumb(128,128))\n",
        "    pred, pred_idx, probs = learn_inf.predict(img)\n",
        "    lbl_pred.value = f'Prediction: {pred}; Probability: {probs[pred_idx]:.04f}'"
      ],
      "execution_count": null,
      "outputs": []
    },
    {
      "cell_type": "code",
      "metadata": {
        "id": "Lm_73MnIT99q"
      },
      "source": [
        "btn_run.on_click(on_click_classify)"
      ],
      "execution_count": null,
      "outputs": []
    },
    {
      "cell_type": "code",
      "metadata": {
        "id": "myecnkFmUCNw"
      },
      "source": [
        "#hide_output\n",
        "VBox([widgets.Label('Select your bear!'), \n",
        "      btn_upload, btn_run, out_pl, lbl_pred])"
      ],
      "execution_count": null,
      "outputs": []
    }
  ]
}